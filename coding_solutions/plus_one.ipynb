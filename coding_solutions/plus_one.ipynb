{
  "nbformat": 4,
  "nbformat_minor": 0,
  "metadata": {
    "colab": {
      "name": "plus_one",
      "provenance": []
    },
    "kernelspec": {
      "name": "python3",
      "display_name": "Python 3"
    }
  },
  "cells": [
    {
      "cell_type": "code",
      "metadata": {
        "id": "QULn_Fll-8vp",
        "colab_type": "code",
        "colab": {}
      },
      "source": [
        "\"\"\"\n",
        "Given a non-empty array of digits representing a non-negative integer, plus one to the integer.\n",
        "The digits are stored such that the most significant digit is at the head of the list, \n",
        "and each element in the array contain a single digit.\n",
        "You may assume the integer does not contain any leading zero, except the number 0 itself.\n",
        "\"\"\"\n",
        "\n",
        "\n",
        "class Solution(object):\n",
        "    def plusOne(self, digits):\n",
        "        \"\"\"\n",
        "        :type digits: List[int]\n",
        "        :rtype: List[int]\n",
        "        \"\"\"\n",
        "        carry = 1\n",
        "        for i in range(len(digits) - 1, -1, -1):\n",
        "            carry += digits[i]\n",
        "            digits[i] = carry % 10\n",
        "            carry //= 10\n",
        "\n",
        "        if carry:\n",
        "            digits.insert(0, carry)\n",
        "\n",
        "        return digits"
      ],
      "execution_count": 0,
      "outputs": []
    }
  ]
}