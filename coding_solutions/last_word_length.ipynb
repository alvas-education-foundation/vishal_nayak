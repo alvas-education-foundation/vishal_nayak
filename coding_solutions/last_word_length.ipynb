{
  "nbformat": 4,
  "nbformat_minor": 0,
  "metadata": {
    "colab": {
      "name": "last_word_length",
      "provenance": []
    },
    "kernelspec": {
      "name": "python3",
      "display_name": "Python 3"
    }
  },
  "cells": [
    {
      "cell_type": "code",
      "metadata": {
        "id": "iPb5bn0w-ZUf",
        "colab_type": "code",
        "colab": {}
      },
      "source": [
        "  \n",
        "\"\"\"\n",
        "Given a string s consists of upper/lower-case alphabets and empty space characters ' ',\n",
        "return the length of last word\n",
        "(last word means the last appearing word if we loop from left to right) in the string.\n",
        "If the last word does not exist, return 0.\n",
        "\"\"\"\n",
        "class Solution(object):\n",
        "    def lengthOfLastWord(self, s):\n",
        "        \"\"\"\n",
        "        :type s: str\n",
        "        :rtype: int\n",
        "        \"\"\"\n",
        "        s = s.rstrip(' ')\n",
        "        s = s.split(' ')\n",
        "        return len(s[-1])"
      ],
      "execution_count": 0,
      "outputs": []
    }
  ]
}