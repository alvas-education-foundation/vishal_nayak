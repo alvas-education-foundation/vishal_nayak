{
  "nbformat": 4,
  "nbformat_minor": 0,
  "metadata": {
    "kernelspec": {
      "display_name": "Python 3",
      "language": "python",
      "name": "python3"
    },
    "language_info": {
      "codemirror_mode": {
        "name": "ipython",
        "version": 3
      },
      "file_extension": ".py",
      "mimetype": "text/x-python",
      "name": "python",
      "nbconvert_exporter": "python",
      "pygments_lexer": "ipython3",
      "version": "3.7.3"
    },
    "colab": {
      "name": "rorate_array.ipynb",
      "provenance": []
    }
  },
  "cells": [
    {
      "cell_type": "markdown",
      "metadata": {
        "id": "SY2B1Ihpr4G6",
        "colab_type": "text"
      },
      "source": [
        "# Rotate the array to the right by k steps"
      ]
    },
    {
      "cell_type": "code",
      "metadata": {
        "id": "rZ6OCykBr4HA",
        "colab_type": "code",
        "colab": {
          "base_uri": "https://localhost:8080/",
          "height": 68
        },
        "outputId": "e8e255e5-c292-4199-d049-53081e82e5c7"
      },
      "source": [
        "array = input(\"Enter array:\").split()\n",
        "k = int(input(\"Enter K value:\"))\n",
        "print(array[len(array)-k:]+array[:len(array)-k])"
      ],
      "execution_count": 1,
      "outputs": [
        {
          "output_type": "stream",
          "text": [
            "Enter array:1 2 3 4 5 6\n",
            "Enter K value:2\n",
            "['5', '6', '1', '2', '3', '4']\n"
          ],
          "name": "stdout"
        }
      ]
    }
  ]
}