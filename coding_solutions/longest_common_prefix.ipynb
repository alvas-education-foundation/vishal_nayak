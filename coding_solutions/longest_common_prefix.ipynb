{
  "nbformat": 4,
  "nbformat_minor": 0,
  "metadata": {
    "colab": {
      "name": "longest_common_prefix",
      "provenance": []
    },
    "kernelspec": {
      "name": "python3",
      "display_name": "Python 3"
    }
  },
  "cells": [
    {
      "cell_type": "code",
      "metadata": {
        "id": "aBa85v6X-ptB",
        "colab_type": "code",
        "colab": {}
      },
      "source": [
        "\"\"\"\n",
        "Write a function to find the longest common prefix string amongst an array of strings.\n",
        "If there is no common prefix, return an empty string \"\".\n",
        "\"\"\"\n",
        "class Solution(object):\n",
        "    def longestCommonPrefix(self, strs):\n",
        "        \"\"\"\n",
        "        :type strs: List[str]\n",
        "        :rtype: str\n",
        "        \"\"\"\n",
        "        if not strs:\n",
        "            return \"\"\n",
        "\n",
        "        shortest = min(strs, key=len)\n",
        "        for i, ch in enumerate(shortest):\n",
        "            for other in strs:\n",
        "                if other[i] != ch:\n",
        "                    return shortest[:i]\n",
        "        return shortest"
      ],
      "execution_count": 0,
      "outputs": []
    }
  ]
}