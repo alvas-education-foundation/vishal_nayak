{
  "nbformat": 4,
  "nbformat_minor": 0,
  "metadata": {
    "colab": {
      "name": "missing_number",
      "provenance": []
    },
    "kernelspec": {
      "name": "python3",
      "display_name": "Python 3"
    }
  },
  "cells": [
    {
      "cell_type": "markdown",
      "metadata": {
        "id": "WYvVWVuu-okJ",
        "colab_type": "text"
      },
      "source": [
        "Given an array containing n distinct numbers taken from 0, 1, 2, ..., n, find the one that is missing from the array.\n",
        "\n",
        "Example 1:\n",
        "\n",
        "Input: [3,0,1]\n",
        "Output: 2\n",
        "Example 2:\n",
        "\n",
        "Input: [9,6,4,2,3,5,7,0,1]\n",
        "Output: 8"
      ]
    },
    {
      "cell_type": "code",
      "metadata": {
        "id": "Ht__ED05-lvi",
        "colab_type": "code",
        "colab": {
          "base_uri": "https://localhost:8080/",
          "height": 51
        },
        "outputId": "01261672-8120-4acd-eb6c-3f0e3bc8301e"
      },
      "source": [
        "array = list(map(int, input(\"Enter array : \").split()))\n",
        "print(\"Missing Number :\", sum(list(range(max(array)+1))) - sum(array))"
      ],
      "execution_count": 16,
      "outputs": [
        {
          "output_type": "stream",
          "text": [
            "Enter array : 9 6 4 2 3 5 7 0 1\n",
            "Missing Number : 8\n"
          ],
          "name": "stdout"
        }
      ]
    }
  ]
}