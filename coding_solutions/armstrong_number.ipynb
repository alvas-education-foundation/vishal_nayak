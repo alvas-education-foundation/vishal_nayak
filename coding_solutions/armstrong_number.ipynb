{
  "nbformat": 4,
  "nbformat_minor": 0,
  "metadata": {
    "kernelspec": {
      "display_name": "Python 3",
      "language": "python",
      "name": "python3"
    },
    "language_info": {
      "codemirror_mode": {
        "name": "ipython",
        "version": 3
      },
      "file_extension": ".py",
      "mimetype": "text/x-python",
      "name": "python",
      "nbconvert_exporter": "python",
      "pygments_lexer": "ipython3",
      "version": "3.7.3"
    },
    "colab": {
      "name": "armstrong_number.ipynb",
      "provenance": [],
      "collapsed_sections": []
    }
  },
  "cells": [
    {
      "cell_type": "markdown",
      "metadata": {
        "id": "-4p12y10rGq1",
        "colab_type": "text"
      },
      "source": [
        "# Armstrong Number"
      ]
    },
    {
      "cell_type": "code",
      "metadata": {
        "id": "ujCj18ECrGq6",
        "colab_type": "code",
        "colab": {
          "base_uri": "https://localhost:8080/",
          "height": 358
        },
        "outputId": "51bf7207-332d-4d30-d2a4-e809d03459c2"
      },
      "source": [
        "j = 0\n",
        "while j<100000:\n",
        "    s = 0\n",
        "    n = str(j)\n",
        "    for i in n:\n",
        "        s+=int(i)**len(n)\n",
        "    if s==j:\n",
        "        print(j)\n",
        "    j+=1"
      ],
      "execution_count": 1,
      "outputs": [
        {
          "output_type": "stream",
          "text": [
            "0\n",
            "1\n",
            "2\n",
            "3\n",
            "4\n",
            "5\n",
            "6\n",
            "7\n",
            "8\n",
            "9\n",
            "153\n",
            "370\n",
            "371\n",
            "407\n",
            "1634\n",
            "8208\n",
            "9474\n",
            "54748\n",
            "92727\n",
            "93084\n"
          ],
          "name": "stdout"
        }
      ]
    }
  ]
}