{
  "nbformat": 4,
  "nbformat_minor": 0,
  "metadata": {
    "colab": {
      "name": "micro_array_update",
      "provenance": [],
      "collapsed_sections": []
    },
    "kernelspec": {
      "name": "python3",
      "display_name": "Python 3"
    }
  },
  "cells": [
    {
      "cell_type": "code",
      "metadata": {
        "id": "o51VoakKxjFr",
        "colab_type": "code",
        "colab": {
          "base_uri": "https://localhost:8080/",
          "height": 138
        },
        "outputId": "901e3898-7f35-4528-f5de-3e62d5b9a9c8"
      },
      "source": [
        "test_cases=int(input())\n",
        "for i in range(test_cases):\n",
        "    N, K = map(int,input().split())\n",
        "    array = list(map(int, input().split()))\n",
        "    if K > min(array):\n",
        "        print(K - min(array))\n",
        "    else:\n",
        "        print(\"0\")"
      ],
      "execution_count": 1,
      "outputs": [
        {
          "output_type": "stream",
          "text": [
            "2\n",
            "3 4\n",
            "1 2 5\n",
            "3\n",
            "3 2\n",
            "2 5 5\n",
            "0\n"
          ],
          "name": "stdout"
        }
      ]
    }
  ]
}