{
  "nbformat": 4,
  "nbformat_minor": 0,
  "metadata": {
    "colab": {
      "name": "contiguous_subarray",
      "provenance": []
    },
    "kernelspec": {
      "name": "python3",
      "display_name": "Python 3"
    }
  },
  "cells": [
    {
      "cell_type": "code",
      "metadata": {
        "id": "HoLfNS7S8pkX",
        "colab_type": "code",
        "colab": {}
      },
      "source": [
        "\"\"\"\n",
        "Given an integer array nums, find the contiguous subarray\n",
        "(containing at least one number) which has the largest sum and return its sum.\n",
        "\"\"\"\n",
        "\n",
        "class Solution(object):\n",
        "    def maxSubArray(self, nums):\n",
        "        \"\"\"\n",
        "        :type nums: List[int]\n",
        "        :rtype: int\n",
        "        \"\"\"\n",
        "        maxsofar = nums[0]\n",
        "        currentmax = nums[0]\n",
        "\n",
        "        for i in range(1, len(nums)):\n",
        "            currentmax = max(nums[i], currentmax + nums[i])\n",
        "            maxsofar = max(maxsofar, currentmax)\n",
        "\n",
        "        return maxsofar"
      ],
      "execution_count": 0,
      "outputs": []
    }
  ]
}