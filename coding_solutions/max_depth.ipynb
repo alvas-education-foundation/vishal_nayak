{
  "nbformat": 4,
  "nbformat_minor": 0,
  "metadata": {
    "colab": {
      "name": "max_depth",
      "provenance": []
    },
    "kernelspec": {
      "name": "python3",
      "display_name": "Python 3"
    }
  },
  "cells": [
    {
      "cell_type": "code",
      "metadata": {
        "id": "NxO66uo5_cLA",
        "colab_type": "code",
        "colab": {}
      },
      "source": [
        "\"\"\"\n",
        "Given a binary tree, find its maximum depth.\n",
        "The maximum depth is the number of nodes along the longest path from the root node down to the farthest leaf node.\n",
        "\"\"\"\n",
        "# Definition for a binary tree node.\n",
        "# class TreeNode(object):\n",
        "#     def __init__(self, val=0, left=None, right=None):\n",
        "#         self.val = val\n",
        "#         self.left = left\n",
        "#         self.right = right\n",
        "class Solution(object):\n",
        "    def maxDepth(self, root):\n",
        "        \"\"\"\n",
        "        :type root: TreeNode\n",
        "        :rtype: int\n",
        "        \"\"\"\n",
        "        if root is None:\n",
        "            return 0\n",
        "        else:\n",
        "            return 1 + max(self.maxDepth(root.left),self.maxDepth(root.right))"
      ],
      "execution_count": 0,
      "outputs": []
    }
  ]
}